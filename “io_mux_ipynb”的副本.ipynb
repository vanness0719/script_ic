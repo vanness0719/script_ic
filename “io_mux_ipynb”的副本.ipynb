{
  "nbformat": 4,
  "nbformat_minor": 0,
  "metadata": {
    "colab": {
      "provenance": [],
      "authorship_tag": "ABX9TyOc46+6sCd7TGnU3BeJicoj",
      "include_colab_link": true
    },
    "kernelspec": {
      "name": "python3",
      "display_name": "Python 3"
    },
    "language_info": {
      "name": "python"
    }
  },
  "cells": [
    {
      "cell_type": "markdown",
      "metadata": {
        "id": "view-in-github",
        "colab_type": "text"
      },
      "source": [
        "<a href=\"https://colab.research.google.com/github/vanness0719/script_ic/blob/main/%E2%80%9Cio_mux_ipynb%E2%80%9D%E7%9A%84%E5%89%AF%E6%9C%AC.ipynb\" target=\"_parent\"><img src=\"https://colab.research.google.com/assets/colab-badge.svg\" alt=\"Open In Colab\"/></a>"
      ]
    },
    {
      "cell_type": "code",
      "source": [
        "# prompt: 请调用一个python的库，使用该库调用我的google drive中的chip_io.xlsx 文件，并把文件中的每一列数据分别存储在不同的数组中（数组名用“列_*”），并打印第一个数组. 此外把文件中的每一行数据分别存储在不同的数组中（数组名用“行_*”），并打印第一个数组\n",
        "\n",
        "import pandas as pd\n",
        "from google.colab import drive\n",
        "\n",
        "# Mount your Google Drive\n",
        "drive.mount('/content/drive')\n",
        "\n",
        "# Read the CSV file from your Google Drive\n",
        "chip_io = pd.read_excel('/content/drive/My Drive/chip_io.xlsx')\n",
        "\n",
        "# Convert the DataFrame to a dictionary\n",
        "chip_io_dict = chip_io.to_dict()\n",
        "\n",
        "# Split the dictionary into separate arrays\n",
        "data_arrays = []\n",
        "for key in chip_io_dict:\n",
        "  data_arrays.append(chip_io_dict[key])\n",
        "\n",
        "# Store each column in a separate array\n",
        "column_arrays = []\n",
        "for i in range(len(data_arrays)):\n",
        "  column_arrays.append(data_arrays[i])\n",
        "\n",
        "# Store each row in a separate array\n",
        "row_arrays = []\n",
        "for i in range(len(chip_io)):\n",
        "  row_arrays.append(chip_io.iloc[i].values)\n",
        "\n",
        "# Print the first column and first row\n",
        "#print(column_arrays[1])\n",
        "print(row_arrays[1])\n"
      ],
      "metadata": {
        "id": "N_kvcii4LlvX",
        "outputId": "f473406c-d322-4cd8-cc0b-aabfca3f9e41",
        "colab": {
          "base_uri": "https://localhost:8080/"
        }
      },
      "execution_count": null,
      "outputs": [
        {
          "output_type": "stream",
          "name": "stdout",
          "text": [
            "Drive already mounted at /content/drive; to attempt to forcibly remount, call drive.mount(\"/content/drive\", force_remount=True).\n",
            "[0 'PA[0]' 0 '0000_0010' 'LIN1TX' 'LINFlexD_1'\n",
            " ' LINFlexD_1 Transmit Data Output' 'O' nan nan nan nan nan nan 'medium'\n",
            " 'PAD[0]' nan nan nan nan nan nan nan 'AC16' 74 'AF23' 94 'W14' 93 72\n",
            " 'Bottom' 'VDD_HV_IO_MAIN' 'VDD_HV_IO_MAIN1' 'VDD_HV_IO_MAIN - SEG10' nan\n",
            " nan nan nan nan nan nan nan nan nan nan nan nan nan nan]\n"
          ]
        }
      ]
    }
  ]
}