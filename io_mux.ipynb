{
  "nbformat": 4,
  "nbformat_minor": 0,
  "metadata": {
    "colab": {
      "provenance": [],
      "authorship_tag": "ABX9TyPI28LQicQRy1O6DfODzjKu",
      "include_colab_link": true
    },
    "kernelspec": {
      "name": "python3",
      "display_name": "Python 3"
    },
    "language_info": {
      "name": "python"
    }
  },
  "cells": [
    {
      "cell_type": "markdown",
      "metadata": {
        "id": "view-in-github",
        "colab_type": "text"
      },
      "source": [
        "<a href=\"https://colab.research.google.com/github/vanness0719/script_ic/blob/main/io_mux.ipynb\" target=\"_parent\"><img src=\"https://colab.research.google.com/assets/colab-badge.svg\" alt=\"Open In Colab\"/></a>"
      ]
    },
    {
      "cell_type": "code",
      "source": [
        "# prompt: 请调用一个python的库，使用该库调用我的google drive中的chip_io.csv 文件，并把文件中的数据存储在chip_io的数组或字典中，并打印\n",
        "\n",
        "import pandas as pd\n",
        "from google.colab import drive\n",
        "\n",
        "# Mount your Google Drive\n",
        "drive.mount('/content/drive')\n",
        "\n",
        "# Read the CSV file from your Google Drive\n",
        "chip_io = pd.read_excel('/content/drive/My Drive/chip_io.xlsx')\n",
        "\n",
        "# Convert the DataFrame to a dictionary\n",
        "chip_io_dict = chip_io.to_dict()\n",
        "\n",
        "# Print the dictionary\n",
        "print(chip_io_dict)\n"
      ],
      "metadata": {
        "colab": {
          "base_uri": "https://localhost:8080/"
        },
        "id": "ympCGoz5B0oN",
        "outputId": "038d2caa-a553-4199-bc1a-c7d823fd9455"
      },
      "execution_count": 7,
      "outputs": [
        {
          "output_type": "stream",
          "name": "stdout",
          "text": [
            "Drive already mounted at /content/drive; to attempt to forcibly remount, call drive.mount(\"/content/drive\", force_remount=True).\n",
            "{'版本': {0: 45308, 1: 45326}, '明细': {0: 'LQFP144封装管脚确认', 1: 'BGA180增加pad 36个'}}\n"
          ]
        }
      ]
    }
  ]
}